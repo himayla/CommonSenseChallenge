{
 "cells": [
  {
   "cell_type": "code",
   "execution_count": 7,
   "id": "53811ee2",
   "metadata": {},
   "outputs": [],
   "source": [
    "import pandas as pd\n",
    "from datasets import Dataset\n",
    "from transformers import RobertaConfig, RobertaModel, RobertaTokenizer, RobertaForMultipleChoice\n",
    "from transformers import TrainingArguments, Trainer\n",
    "from transformers.tokenization_utils_base import PaddingStrategy\n",
    "from typing import Optional, Union\n",
    "import torch\n",
    "import numpy as np\n",
    "\n",
    "MODEL_NAME = \"roberta-base\"\n",
    "CHECKPOINT = \"checkpoint-500\"\n",
    "\n",
    "\n",
    "options = ['OptionA', 'OptionB', 'OptionC']\n",
    "\n",
    "tokenizer = RobertaTokenizer.from_pretrained(\"roberta-base\") "
   ]
  },
  {
   "cell_type": "code",
   "execution_count": 2,
   "id": "e75eaa63",
   "metadata": {},
   "outputs": [],
   "source": [
    "class DataCollatorForMultipleChoice:\n",
    "    \"\"\"\n",
    "    Data collator that will dynamically pad the inputs for multiple choice received.\n",
    "    Flattens all model inputs, apply padding, unflatten results.\n",
    "    \"\"\"\n",
    "    padding: Union[bool, str, PaddingStrategy] = True\n",
    "    max_length: Optional[int] = None\n",
    "    pad_to_multiple_of: Optional[int] = None\n",
    "\n",
    "    def __call__(self, features):\n",
    "        label_name = \"label\" if \"label\" in features[0].keys() else \"labels\"\n",
    "        labels = [feature.pop(label_name) for feature in features]\n",
    "        batch_size = len(features)\n",
    "        num_choices = len(features[0][\"input_ids\"])\n",
    "        flattened_features = [\n",
    "            [{k: v[i] for k, v in feature.items()} for i in range(num_choices)] for feature in features\n",
    "        ]\n",
    "        flattened_features = sum(flattened_features, [])\n",
    "\n",
    "        batch = tokenizer.pad(\n",
    "            flattened_features,\n",
    "            padding=self.padding,\n",
    "            max_length=self.max_length,\n",
    "            pad_to_multiple_of=self.pad_to_multiple_of,\n",
    "            return_tensors=\"pt\",\n",
    "        )\n",
    "\n",
    "        batch = {k: v.view(batch_size, num_choices, -1) for k, v in batch.items()}\n",
    "        batch[\"labels\"] = torch.tensor(labels, dtype=torch.long)\n",
    "        return batch\n"
   ]
  },
  {
   "cell_type": "code",
   "execution_count": 3,
   "id": "52c1ae7a",
   "metadata": {},
   "outputs": [],
   "source": [
    "def load_data(sentences, labels):\n",
    "    \"\"\"\n",
    "        Load and merge sentences, labels convert to Huggingface DatasetDict\n",
    "    \"\"\"\n",
    "    df_sentences = pd.read_csv(sentences)\n",
    "    df_labels = pd.read_csv(labels)\n",
    "\n",
    "    # Combine sentences and labels dataframes\n",
    "    df = pd.merge(df_sentences, df_labels, on=\"id\")\n",
    "\n",
    "    df = df.rename(columns={\"answer\": \"label\"})\n",
    "\n",
    "    # Encode answer to make it binary\n",
    "    data = Dataset.from_pandas(df).train_test_split(test_size = 0.3).class_encode_column(\"label\")\n",
    "\n",
    "    return data"
   ]
  },
  {
   "cell_type": "code",
   "execution_count": 4,
   "id": "b2a915ea",
   "metadata": {},
   "outputs": [],
   "source": [
    "def preprocess_function(examples: Dataset):\n",
    "    \"\"\" Perform preprocessing of the input.\n",
    "        # Arguments\n",
    "            Dataset: Huggingface Dataset containing features\n",
    "        # Output\n",
    "            Huggingface dataset_dict with the tokenized examples \n",
    "        with corresponding input_ids, attention_mask, and labels.\n",
    "    \"\"\"\n",
    "    first = [[i] * 3 for i in examples[\"FalseSent\"]]\n",
    "\n",
    "    second = [\n",
    "        [f\"{examples[opt][i]}\" for opt in options] for i in range(len(examples['FalseSent']))\n",
    "    ]\n",
    "\n",
    "    first = sum(first, [])\n",
    "    sec = sum(second, [])\n",
    "\n",
    "    # Truncation makes sure to make sure input is not longer than max\n",
    "    tokenized_examples = tokenizer(first, sec, truncation=True)\n",
    " \n",
    "    return {k: [v[i : i + 3] for i in range(0, len(v), 3)] for k, v in tokenized_examples.items()}\n"
   ]
  },
  {
   "cell_type": "code",
   "execution_count": 5,
   "id": "6de4d424",
   "metadata": {},
   "outputs": [],
   "source": [
    "def compute_metrics(eval_predictions):\n",
    "    \"\"\"\n",
    "    Compute metrics from the predictions.\n",
    "    \"\"\"\n",
    "    predictions, label_ids = eval_predictions\n",
    "    preds = np.argmax(predictions, axis=1)\n",
    "    return {\"accuracy\": (preds == label_ids).astype(np.float32).mean().item()}"
   ]
  },
  {
   "cell_type": "code",
   "execution_count": 10,
   "id": "f397b9c3",
   "metadata": {},
   "outputs": [
    {
     "data": {
      "application/vnd.jupyter.widget-view+json": {
       "model_id": "cbaefd383d3b41cc889e4c7b5070d869",
       "version_major": 2,
       "version_minor": 0
      },
      "text/plain": [
       "Flattening the indices:   0%|          | 0/6 [00:00<?, ?ba/s]"
      ]
     },
     "metadata": {},
     "output_type": "display_data"
    },
    {
     "data": {
      "application/vnd.jupyter.widget-view+json": {
       "model_id": "ac0d4541b2c542bfbe7bdd7f7b1b60c7",
       "version_major": 2,
       "version_minor": 0
      },
      "text/plain": [
       "Casting to class labels:   0%|          | 0/6 [00:00<?, ?ba/s]"
      ]
     },
     "metadata": {},
     "output_type": "display_data"
    },
    {
     "data": {
      "application/vnd.jupyter.widget-view+json": {
       "model_id": "f3784d3bc7794c2ba97d1b801114a033",
       "version_major": 2,
       "version_minor": 0
      },
      "text/plain": [
       "Flattening the indices:   0%|          | 0/3 [00:00<?, ?ba/s]"
      ]
     },
     "metadata": {},
     "output_type": "display_data"
    },
    {
     "data": {
      "application/vnd.jupyter.widget-view+json": {
       "model_id": "5f2afcff18e4444a9d680a30ba2c1961",
       "version_major": 2,
       "version_minor": 0
      },
      "text/plain": [
       "Casting to class labels:   0%|          | 0/3 [00:00<?, ?ba/s]"
      ]
     },
     "metadata": {},
     "output_type": "display_data"
    },
    {
     "data": {
      "application/vnd.jupyter.widget-view+json": {
       "model_id": "e1cb8e1a59a344af96c1017f23a977d6",
       "version_major": 2,
       "version_minor": 0
      },
      "text/plain": [
       "  0%|          | 0/6 [00:00<?, ?ba/s]"
      ]
     },
     "metadata": {},
     "output_type": "display_data"
    },
    {
     "data": {
      "application/vnd.jupyter.widget-view+json": {
       "model_id": "a8daa5d0dc0c471eb97f60be07d4cd28",
       "version_major": 2,
       "version_minor": 0
      },
      "text/plain": [
       "  0%|          | 0/3 [00:00<?, ?ba/s]"
      ]
     },
     "metadata": {},
     "output_type": "display_data"
    },
    {
     "name": "stderr",
     "output_type": "stream",
     "text": [
      "Some weights of the model checkpoint at roberta-base were not used when initializing RobertaForMultipleChoice: ['lm_head.bias', 'lm_head.layer_norm.bias', 'lm_head.dense.weight', 'lm_head.decoder.weight', 'lm_head.layer_norm.weight', 'lm_head.dense.bias']\n",
      "- This IS expected if you are initializing RobertaForMultipleChoice from the checkpoint of a model trained on another task or with another architecture (e.g. initializing a BertForSequenceClassification model from a BertForPreTraining model).\n",
      "- This IS NOT expected if you are initializing RobertaForMultipleChoice from the checkpoint of a model that you expect to be exactly identical (initializing a BertForSequenceClassification model from a BertForSequenceClassification model).\n",
      "Some weights of RobertaForMultipleChoice were not initialized from the model checkpoint at roberta-base and are newly initialized: ['classifier.weight', 'classifier.bias']\n",
      "You should probably TRAIN this model on a down-stream task to be able to use it for predictions and inference.\n"
     ]
    }
   ],
   "source": [
    "if __name__ == \"__main__\":\n",
    "    \n",
    "    sentences = \"common-sense/train_data.csv\"\n",
    "    labels = \"common-sense/train_answers.csv\"\n",
    "\n",
    "    data = load_data(sentences, labels)\n",
    "\n",
    "    tokenized = data.map(preprocess_function, batched=True)\n",
    "    \n",
    "    roberta_base_config = RobertaConfig()\n",
    "    config = RobertaConfig(\n",
    "    hidden_size=768,\n",
    "    num_attention_heads=12,\n",
    "    intermediate_size=3072,)\n",
    "\n",
    "    model = RobertaForMultipleChoice.from_pretrained(MODEL_NAME)\n",
    "    configuration = model.config\n",
    "\n",
    "    training_args = TrainingArguments(\n",
    "        output_dir = f\"./results/{MODEL_NAME}\",\n",
    "        evaluation_strategy = \"epoch\",\n",
    "        learning_rate = 5e-5,\n",
    "        per_device_train_batch_size = 16,\n",
    "        per_device_eval_batch_size = 16,\n",
    "        num_train_epochs = 3, # Default = 3\n",
    "        weight_decay = 0.01,\n",
    "    )"
   ]
  },
  {
   "cell_type": "code",
   "execution_count": 11,
   "id": "5dcef5f4",
   "metadata": {},
   "outputs": [
    {
     "name": "stderr",
     "output_type": "stream",
     "text": [
      "The following columns in the training set don't have a corresponding argument in `RobertaForMultipleChoice.forward` and have been ignored: OptionB, OptionA, id, FalseSent, __index_level_0__, OptionC. If OptionB, OptionA, id, FalseSent, __index_level_0__, OptionC are not expected by `RobertaForMultipleChoice.forward`,  you can safely ignore this message.\n",
      "c:\\users\\conor\\appdata\\local\\programs\\python\\python39\\lib\\site-packages\\transformers\\optimization.py:306: FutureWarning: This implementation of AdamW is deprecated and will be removed in a future version. Use the PyTorch implementation torch.optim.AdamW instead, or set `no_deprecation_warning=True` to disable this warning\n",
      "  warnings.warn(\n",
      "***** Running training *****\n",
      "  Num examples = 5600\n",
      "  Num Epochs = 3\n",
      "  Instantaneous batch size per device = 16\n",
      "  Total train batch size (w. parallel, distributed & accumulation) = 16\n",
      "  Gradient Accumulation steps = 1\n",
      "  Total optimization steps = 1050\n",
      "  Number of trainable parameters = 124646401\n"
     ]
    },
    {
     "data": {
      "text/html": [
       "\n",
       "    <div>\n",
       "      \n",
       "      <progress value='1050' max='1050' style='width:300px; height:20px; vertical-align: middle;'></progress>\n",
       "      [1050/1050 2:33:45, Epoch 3/3]\n",
       "    </div>\n",
       "    <table border=\"1\" class=\"dataframe\">\n",
       "  <thead>\n",
       " <tr style=\"text-align: left;\">\n",
       "      <th>Epoch</th>\n",
       "      <th>Training Loss</th>\n",
       "      <th>Validation Loss</th>\n",
       "      <th>Accuracy</th>\n",
       "    </tr>\n",
       "  </thead>\n",
       "  <tbody>\n",
       "    <tr>\n",
       "      <td>1</td>\n",
       "      <td>No log</td>\n",
       "      <td>0.380333</td>\n",
       "      <td>0.867500</td>\n",
       "    </tr>\n",
       "    <tr>\n",
       "      <td>2</td>\n",
       "      <td>0.456300</td>\n",
       "      <td>0.417506</td>\n",
       "      <td>0.878333</td>\n",
       "    </tr>\n",
       "    <tr>\n",
       "      <td>3</td>\n",
       "      <td>0.154400</td>\n",
       "      <td>0.488436</td>\n",
       "      <td>0.884583</td>\n",
       "    </tr>\n",
       "  </tbody>\n",
       "</table><p>"
      ],
      "text/plain": [
       "<IPython.core.display.HTML object>"
      ]
     },
     "metadata": {},
     "output_type": "display_data"
    },
    {
     "name": "stderr",
     "output_type": "stream",
     "text": [
      "The following columns in the evaluation set don't have a corresponding argument in `RobertaForMultipleChoice.forward` and have been ignored: OptionB, OptionA, id, FalseSent, __index_level_0__, OptionC. If OptionB, OptionA, id, FalseSent, __index_level_0__, OptionC are not expected by `RobertaForMultipleChoice.forward`,  you can safely ignore this message.\n",
      "***** Running Evaluation *****\n",
      "  Num examples = 2400\n",
      "  Batch size = 16\n",
      "Saving model checkpoint to ./results/roberta-base\\checkpoint-500\n",
      "Configuration saved in ./results/roberta-base\\checkpoint-500\\config.json\n",
      "Model weights saved in ./results/roberta-base\\checkpoint-500\\pytorch_model.bin\n",
      "tokenizer config file saved in ./results/roberta-base\\checkpoint-500\\tokenizer_config.json\n",
      "Special tokens file saved in ./results/roberta-base\\checkpoint-500\\special_tokens_map.json\n",
      "The following columns in the evaluation set don't have a corresponding argument in `RobertaForMultipleChoice.forward` and have been ignored: OptionB, OptionA, id, FalseSent, __index_level_0__, OptionC. If OptionB, OptionA, id, FalseSent, __index_level_0__, OptionC are not expected by `RobertaForMultipleChoice.forward`,  you can safely ignore this message.\n",
      "***** Running Evaluation *****\n",
      "  Num examples = 2400\n",
      "  Batch size = 16\n",
      "Saving model checkpoint to ./results/roberta-base\\checkpoint-1000\n",
      "Configuration saved in ./results/roberta-base\\checkpoint-1000\\config.json\n",
      "Model weights saved in ./results/roberta-base\\checkpoint-1000\\pytorch_model.bin\n",
      "tokenizer config file saved in ./results/roberta-base\\checkpoint-1000\\tokenizer_config.json\n",
      "Special tokens file saved in ./results/roberta-base\\checkpoint-1000\\special_tokens_map.json\n",
      "The following columns in the evaluation set don't have a corresponding argument in `RobertaForMultipleChoice.forward` and have been ignored: OptionB, OptionA, id, FalseSent, __index_level_0__, OptionC. If OptionB, OptionA, id, FalseSent, __index_level_0__, OptionC are not expected by `RobertaForMultipleChoice.forward`,  you can safely ignore this message.\n",
      "***** Running Evaluation *****\n",
      "  Num examples = 2400\n",
      "  Batch size = 16\n",
      "\n",
      "\n",
      "Training completed. Do not forget to share your model on huggingface.co/models =)\n",
      "\n",
      "\n"
     ]
    },
    {
     "data": {
      "text/plain": [
       "TrainOutput(global_step=1050, training_loss=0.2950720078604562, metrics={'train_runtime': 9232.8411, 'train_samples_per_second': 1.82, 'train_steps_per_second': 0.114, 'total_flos': 885303196891488.0, 'train_loss': 0.2950720078604562, 'epoch': 3.0})"
      ]
     },
     "execution_count": 11,
     "metadata": {},
     "output_type": "execute_result"
    }
   ],
   "source": [
    "trainer = Trainer(\n",
    "        model = model,\n",
    "        args = training_args,\n",
    "        train_dataset = tokenized[\"train\"],\n",
    "        eval_dataset = tokenized[\"test\"],\n",
    "        tokenizer = tokenizer,\n",
    "        data_collator = DataCollatorForMultipleChoice(),\n",
    "        compute_metrics = compute_metrics,\n",
    "    )\n",
    "\n",
    "trainer.train()"
   ]
  },
  {
   "cell_type": "code",
   "execution_count": null,
   "id": "d2c0cdf3",
   "metadata": {},
   "outputs": [],
   "source": []
  }
 ],
 "metadata": {
  "kernelspec": {
   "display_name": "Python 3 (ipykernel)",
   "language": "python",
   "name": "python3"
  },
  "language_info": {
   "codemirror_mode": {
    "name": "ipython",
    "version": 3
   },
   "file_extension": ".py",
   "mimetype": "text/x-python",
   "name": "python",
   "nbconvert_exporter": "python",
   "pygments_lexer": "ipython3",
   "version": "3.9.0"
  }
 },
 "nbformat": 4,
 "nbformat_minor": 5
}
