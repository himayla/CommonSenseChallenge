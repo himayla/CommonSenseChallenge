{
 "cells": [
  {
   "attachments": {},
   "cell_type": "markdown",
   "metadata": {},
   "source": [
    "### Load"
   ]
  },
  {
   "cell_type": "code",
   "execution_count": 1,
   "metadata": {},
   "outputs": [],
   "source": [
    "import pandas as pd\n",
    "\n",
    "# Load data\n",
    "dir = \"common-sense\"\n",
    "\n",
    "train_file = f\"{dir}/train_data.csv\"\n",
    "train_labels_file = f\"{dir}/train_answers.csv\"\n",
    "\n",
    "df_sentences = pd.read_csv(train_file)\n",
    "df_labels = pd.read_csv(train_labels_file)"
   ]
  },
  {
   "cell_type": "code",
   "execution_count": 2,
   "metadata": {},
   "outputs": [],
   "source": [
    "# Combine sentences and labels dataframes\n",
    "df = pd.merge(df_sentences, df_labels, on=\"id\")\n",
    "\n",
    "# Rename answer to label and options to correspond with binary label\n",
    "df = df.rename(columns={\"answer\": \"label\"})"
   ]
  },
  {
   "cell_type": "code",
   "execution_count": 3,
   "metadata": {},
   "outputs": [
    {
     "data": {
      "application/vnd.jupyter.widget-view+json": {
       "model_id": "793c5ba95ae345eba1c7f3b42df59d02",
       "version_major": 2,
       "version_minor": 0
      },
      "text/plain": [
       "Flattening the indices:   0%|          | 0/6 [00:00<?, ?ba/s]"
      ]
     },
     "metadata": {},
     "output_type": "display_data"
    },
    {
     "data": {
      "application/vnd.jupyter.widget-view+json": {
       "model_id": "46585caaac5e45d8b73b61303b6e9861",
       "version_major": 2,
       "version_minor": 0
      },
      "text/plain": [
       "Casting to class labels:   0%|          | 0/6 [00:00<?, ?ba/s]"
      ]
     },
     "metadata": {},
     "output_type": "display_data"
    },
    {
     "data": {
      "application/vnd.jupyter.widget-view+json": {
       "model_id": "f4e687cb43da4a8f8190e61741279ff8",
       "version_major": 2,
       "version_minor": 0
      },
      "text/plain": [
       "Flattening the indices:   0%|          | 0/3 [00:00<?, ?ba/s]"
      ]
     },
     "metadata": {},
     "output_type": "display_data"
    },
    {
     "data": {
      "application/vnd.jupyter.widget-view+json": {
       "model_id": "95d3a5e78fcb4e9395fe508c6e1b7241",
       "version_major": 2,
       "version_minor": 0
      },
      "text/plain": [
       "Casting to class labels:   0%|          | 0/3 [00:00<?, ?ba/s]"
      ]
     },
     "metadata": {},
     "output_type": "display_data"
    }
   ],
   "source": [
    "from datasets import Dataset, load_metric\n",
    "\n",
    "# Convert dataframe to huggingface dataset, split in train/test(for eval) set, encode label\n",
    "data = Dataset.from_pandas(df).train_test_split(test_size = 0.3).class_encode_column(\"label\")"
   ]
  },
  {
   "cell_type": "code",
   "execution_count": 6,
   "metadata": {},
   "outputs": [],
   "source": [
    "labels = {0: 'OptionA', 1: 'OptionB', 2: 'OptionC'}\n",
    "\n",
    "def show(example):\n",
    "    \"\"\"\n",
    "        Shows an example in the dataset\n",
    "    \"\"\"\n",
    "    print(f\"Sentence: {example['FalseSent']}\\n\")\n",
    "\n",
    "    print(f\"Options:\\nA) {example['OptionA']}\\nB) {example['OptionB']}\\nC) {example['OptionC']}\")\n",
    "\n",
    "    gold_label = example['label']\n",
    "    print(f\"Correct label: {example['label']}\\n\")\n",
    "    print(f\"Ground truth: {labels[gold_label]}\")\n"
   ]
  },
  {
   "cell_type": "code",
   "execution_count": 7,
   "metadata": {},
   "outputs": [
    {
     "name": "stdout",
     "output_type": "stream",
     "text": [
      "Sentence: Sam lives in space.\n",
      "\n",
      "Options:\n",
      "A) Space is vast.\n",
      "B) Space contains many unknowns.\n",
      "C) Space is not suitable for human existence\n",
      "Correct label: 2\n",
      "\n",
      "Ground truth: OptionC\n"
     ]
    }
   ],
   "source": [
    "show(data[\"train\"][1])"
   ]
  },
  {
   "cell_type": "code",
   "execution_count": 8,
   "metadata": {},
   "outputs": [
    {
     "data": {
      "application/vnd.jupyter.widget-view+json": {
       "model_id": "e056bb94edfc4fa9bea7e6921b78f84f",
       "version_major": 2,
       "version_minor": 0
      },
      "text/plain": [
       "Flattening the indices:   0%|          | 0/6 [00:00<?, ?ba/s]"
      ]
     },
     "metadata": {},
     "output_type": "display_data"
    },
    {
     "data": {
      "application/vnd.jupyter.widget-view+json": {
       "model_id": "7565ea807cdb441c87692b4c76470b8e",
       "version_major": 2,
       "version_minor": 0
      },
      "text/plain": [
       "Casting to class labels:   0%|          | 0/6 [00:00<?, ?ba/s]"
      ]
     },
     "metadata": {},
     "output_type": "display_data"
    },
    {
     "data": {
      "application/vnd.jupyter.widget-view+json": {
       "model_id": "a3cdc82d988a40c2a167a5c550c24caa",
       "version_major": 2,
       "version_minor": 0
      },
      "text/plain": [
       "Flattening the indices:   0%|          | 0/3 [00:00<?, ?ba/s]"
      ]
     },
     "metadata": {},
     "output_type": "display_data"
    },
    {
     "data": {
      "application/vnd.jupyter.widget-view+json": {
       "model_id": "1bd813958e524f9aa87b382c31177b99",
       "version_major": 2,
       "version_minor": 0
      },
      "text/plain": [
       "Casting to class labels:   0%|          | 0/3 [00:00<?, ?ba/s]"
      ]
     },
     "metadata": {},
     "output_type": "display_data"
    }
   ],
   "source": [
    "from datasets import Dataset, load_metric\n",
    "\n",
    "# Convert dataframe to huggingface dataset, split in train/test(for eval) set, encode label\n",
    "data = Dataset.from_pandas(df).train_test_split(test_size = 0.3).class_encode_column(\"label\")"
   ]
  },
  {
   "attachments": {},
   "cell_type": "markdown",
   "metadata": {},
   "source": [
    "### Preprocessing"
   ]
  },
  {
   "cell_type": "code",
   "execution_count": 9,
   "metadata": {},
   "outputs": [
    {
     "data": {
      "application/vnd.jupyter.widget-view+json": {
       "model_id": "2490fbe45c4942078ba75b91dfee59bd",
       "version_major": 2,
       "version_minor": 0
      },
      "text/plain": [
       "  0%|          | 0/6 [00:00<?, ?ba/s]"
      ]
     },
     "metadata": {},
     "output_type": "display_data"
    },
    {
     "data": {
      "application/vnd.jupyter.widget-view+json": {
       "model_id": "d91d63c063db47bc90d6f10f7d837fa7",
       "version_major": 2,
       "version_minor": 0
      },
      "text/plain": [
       "  0%|          | 0/3 [00:00<?, ?ba/s]"
      ]
     },
     "metadata": {},
     "output_type": "display_data"
    }
   ],
   "source": [
    "from transformers import AlbertTokenizer\n",
    "\n",
    "MODEL_NAME = \"albert-base-v2\"\n",
    "tokenizer = AlbertTokenizer.from_pretrained(MODEL_NAME)\n",
    "\n",
    "def preprocess_function(examples: Dataset):\n",
    "    \"\"\" Perform preprocessing of the input.\n",
    "        # Arguments\n",
    "            Dataset: Huggingface Dataset containing features\n",
    "        # Output\n",
    "            Huggingface dataset_dict with the tokenized examples \n",
    "        with corresponding input_ids, attention_mask, and labels.\n",
    "    \"\"\"\n",
    "    first = [[i] * 3 for i in examples[\"FalseSent\"]]\n",
    "\n",
    "    second = [\n",
    "        [f\"{examples[opt][i]}\" for opt in list(labels.values())] for i, j in enumerate(examples['FalseSent'])\n",
    "    ]\n",
    "\n",
    "    first = sum(first, [])\n",
    "    sec = sum(second, [])\n",
    "\n",
    "    # Truncation makes sure to make sure input is not longer than max\n",
    "    tokenized_examples = tokenizer(first, sec, truncation=True)\n",
    " \n",
    "    return {k: [v[i : i + 3] for i in range(0, len(v), 3)] for k, v in tokenized_examples.items()}\n",
    "\n",
    "\n",
    "# Apply preprocess function on entire dataset\n",
    "tokenized = data.map(preprocess_function, batched=True)"
   ]
  },
  {
   "attachments": {},
   "cell_type": "markdown",
   "metadata": {},
   "source": [
    "Intermezzo: check check"
   ]
  },
  {
   "cell_type": "code",
   "execution_count": 10,
   "metadata": {},
   "outputs": [
    {
     "name": "stdout",
     "output_type": "stream",
     "text": [
      "5600 3 [21, 27, 24]\n"
     ]
    }
   ],
   "source": [
    "# Check if tokenized has worked: how many examples (5600), how many options (3), list of with varying features because no padding yet\n",
    "print(len(tokenized[\"train\"][\"input_ids\"]), len(tokenized[\"train\"][\"input_ids\"][0]), [len(x) for x in tokenized[\"train\"][\"input_ids\"][0]])"
   ]
  },
  {
   "cell_type": "code",
   "execution_count": 11,
   "metadata": {},
   "outputs": [
    {
     "data": {
      "text/plain": [
       "['play is for replenishing energy sources people need energy to play games',\n",
       " 'play is for replenishing energy sources energy is not unlimited consumption',\n",
       " 'play is for replenishing energy sources playing games consumes energy']"
      ]
     },
     "execution_count": 11,
     "metadata": {},
     "output_type": "execute_result"
    }
   ],
   "source": [
    "# Check decoded tokenized and compare with ground truth \n",
    "idx = 2\n",
    "[tokenizer.decode(tokenized[\"train\"][\"input_ids\"][idx][i]) for i in range(3)]\n"
   ]
  },
  {
   "cell_type": "code",
   "execution_count": 12,
   "metadata": {},
   "outputs": [
    {
     "name": "stdout",
     "output_type": "stream",
     "text": [
      "Sentence: Play is for replenishing energy sources\n",
      "\n",
      "Options:\n",
      "A) People need energy to play games\n",
      "B) Energy is not unlimited consumption\n",
      "C) Playing games consumes energy\n",
      "Correct label: 2\n",
      "\n",
      "Ground truth: OptionC\n"
     ]
    }
   ],
   "source": [
    "show(data[\"train\"][2])"
   ]
  },
  {
   "attachments": {},
   "cell_type": "markdown",
   "metadata": {},
   "source": [
    "### Fine-tuning"
   ]
  },
  {
   "cell_type": "code",
   "execution_count": 25,
   "metadata": {},
   "outputs": [
    {
     "name": "stderr",
     "output_type": "stream",
     "text": [
      "Some weights of the model checkpoint at albert-base-v2 were not used when initializing AlbertForMultipleChoice: ['predictions.bias', 'predictions.dense.bias', 'predictions.decoder.bias', 'predictions.LayerNorm.bias', 'predictions.dense.weight', 'predictions.decoder.weight', 'predictions.LayerNorm.weight']\n",
      "- This IS expected if you are initializing AlbertForMultipleChoice from the checkpoint of a model trained on another task or with another architecture (e.g. initializing a BertForSequenceClassification model from a BertForPreTraining model).\n",
      "- This IS NOT expected if you are initializing AlbertForMultipleChoice from the checkpoint of a model that you expect to be exactly identical (initializing a BertForSequenceClassification model from a BertForSequenceClassification model).\n",
      "Some weights of AlbertForMultipleChoice were not initialized from the model checkpoint at albert-base-v2 and are newly initialized: ['classifier.bias', 'classifier.weight']\n",
      "You should probably TRAIN this model on a down-stream task to be able to use it for predictions and inference.\n"
     ]
    }
   ],
   "source": [
    "from transformers import AlbertTokenizer, AlbertForMultipleChoice, AlbertConfig\n",
    "from transformers import TrainingArguments, Trainer\n",
    "\n",
    "albert_base_v2_config = AlbertConfig()\n",
    "config = AlbertConfig(\n",
    "    hidden_size=768,\n",
    "    num_attention_heads=12,\n",
    "    intermediate_size=3072,\n",
    ")\n",
    "model = AlbertForMultipleChoice.from_pretrained(MODEL_NAME)\n",
    "configuration = model.config\n"
   ]
  },
  {
   "cell_type": "code",
   "execution_count": 26,
   "metadata": {},
   "outputs": [],
   "source": [
    "training_args = TrainingArguments(\n",
    "    output_dir = f\"./results/{MODEL_NAME}\",\n",
    "    evaluation_strategy = \"epoch\",\n",
    "    learning_rate = 5e-5,\n",
    "    per_device_train_batch_size = 16,\n",
    "    per_device_eval_batch_size = 16,\n",
    "    num_train_epochs = 1, # Default = 3\n",
    "    weight_decay = 0.01,\n",
    ")"
   ]
  },
  {
   "cell_type": "code",
   "execution_count": 27,
   "metadata": {},
   "outputs": [],
   "source": [
    "from dataclasses import dataclass\n",
    "from transformers.tokenization_utils_base import PreTrainedTokenizerBase, PaddingStrategy\n",
    "from typing import Optional, Union\n",
    "import torch\n",
    "\n",
    "@dataclass\n",
    "class DataCollatorForMultipleChoice:\n",
    "    \"\"\"\n",
    "    Data collator that will dynamically pad the inputs for multiple choice received.\n",
    "    Flattens all model inputs, apply padding, unflatten results.\n",
    "    \"\"\"\n",
    "\n",
    "    tokenizer: PreTrainedTokenizerBase\n",
    "    padding: Union[bool, str, PaddingStrategy] = True\n",
    "    max_length: Optional[int] = None\n",
    "    pad_to_multiple_of: Optional[int] = None\n",
    "\n",
    "    def __call__(self, features):\n",
    "        label_name = \"label\" if \"label\" in features[0].keys() else \"labels\"\n",
    "        labels = [feature.pop(label_name) for feature in features]\n",
    "        batch_size = len(features)\n",
    "        num_choices = len(features[0][\"input_ids\"])\n",
    "        flattened_features = [\n",
    "            [{k: v[i] for k, v in feature.items()} for i in range(num_choices)] for feature in features\n",
    "        ]\n",
    "        flattened_features = sum(flattened_features, [])\n",
    "\n",
    "        batch = self.tokenizer.pad(\n",
    "            flattened_features,\n",
    "            padding=self.padding,\n",
    "            max_length=self.max_length,\n",
    "            pad_to_multiple_of=self.pad_to_multiple_of,\n",
    "            return_tensors=\"pt\",\n",
    "        )\n",
    "\n",
    "        batch = {k: v.view(batch_size, num_choices, -1) for k, v in batch.items()}\n",
    "        batch[\"labels\"] = torch.tensor(labels, dtype=torch.long)\n",
    "        return batch"
   ]
  },
  {
   "attachments": {},
   "cell_type": "markdown",
   "metadata": {},
   "source": [
    "CHECK check"
   ]
  },
  {
   "cell_type": "code",
   "execution_count": 28,
   "metadata": {},
   "outputs": [],
   "source": [
    "accepted_keys = [\"input_ids\", \"attention_mask\", \"label\"]\n",
    "features = [{k: v for k, v in tokenized[\"train\"][i].items() if k in accepted_keys} for i in range(10)]\n",
    "\n",
    "batch = DataCollatorForMultipleChoice(tokenizer)(features)"
   ]
  },
  {
   "cell_type": "code",
   "execution_count": 29,
   "metadata": {},
   "outputs": [
    {
     "data": {
      "text/plain": [
       "[\"it's right to drink and drive you cannot drive without a driver's license\",\n",
       " \"it's right to drink and drive drunk driving is prone to cause accidents\",\n",
       " \"it's right to drink and drive some people enjoy drinking while others enjoy driving\"]"
      ]
     },
     "execution_count": 29,
     "metadata": {},
     "output_type": "execute_result"
    }
   ],
   "source": [
    "[tokenizer.decode(batch[\"input_ids\"][5][i].tolist()) for i in range(3)]"
   ]
  },
  {
   "cell_type": "code",
   "execution_count": 30,
   "metadata": {},
   "outputs": [
    {
     "name": "stdout",
     "output_type": "stream",
     "text": [
      "Sentence: It's right to drink and drive\n",
      "\n",
      "Options:\n",
      "A) You cannot drive without a driver's license\n",
      "B) Drunk driving is prone to cause accidents\n",
      "C) Some people enjoy drinking while others enjoy driving\n",
      "Correct label: 1\n",
      "\n",
      "Ground truth: OptionB\n"
     ]
    }
   ],
   "source": [
    "show(data[\"train\"][5])"
   ]
  },
  {
   "attachments": {},
   "cell_type": "markdown",
   "metadata": {},
   "source": [
    "Hmmm.. Padding doesn't seem to work"
   ]
  },
  {
   "cell_type": "code",
   "execution_count": 31,
   "metadata": {},
   "outputs": [],
   "source": [
    "import numpy as np\n",
    "\n",
    "def compute_metrics(eval_predictions):\n",
    "    \"\"\"\n",
    "    Compute metrics from the predictions\n",
    "    \"\"\"\n",
    "    predictions, label_ids = eval_predictions\n",
    "    preds = np.argmax(predictions, axis = 1)\n",
    "    return {\"accuracy\": (preds == label_ids).astype(np.float32).mean().item()}"
   ]
  },
  {
   "cell_type": "code",
   "execution_count": 32,
   "metadata": {},
   "outputs": [],
   "source": [
    "trainer = Trainer(\n",
    "    model = model,\n",
    "    args = training_args,\n",
    "    train_dataset = tokenized[\"train\"],\n",
    "    eval_dataset = tokenized[\"test\"],\n",
    "    tokenizer = tokenizer,\n",
    "    data_collator = DataCollatorForMultipleChoice(tokenizer = tokenizer),\n",
    "    compute_metrics = compute_metrics,\n",
    "    )"
   ]
  },
  {
   "cell_type": "code",
   "execution_count": 33,
   "metadata": {},
   "outputs": [
    {
     "name": "stderr",
     "output_type": "stream",
     "text": [
      "The following columns in the training set don't have a corresponding argument in `AlbertForMultipleChoice.forward` and have been ignored: OptionC, OptionB, OptionA, id, __index_level_0__, FalseSent. If OptionC, OptionB, OptionA, id, __index_level_0__, FalseSent are not expected by `AlbertForMultipleChoice.forward`,  you can safely ignore this message.\n",
      "/usr/local/lib/python3.10/site-packages/transformers/optimization.py:306: FutureWarning: This implementation of AdamW is deprecated and will be removed in a future version. Use the PyTorch implementation torch.optim.AdamW instead, or set `no_deprecation_warning=True` to disable this warning\n",
      "  warnings.warn(\n",
      "***** Running training *****\n",
      "  Num examples = 5600\n",
      "  Num Epochs = 1\n",
      "  Instantaneous batch size per device = 16\n",
      "  Total train batch size (w. parallel, distributed & accumulation) = 16\n",
      "  Gradient Accumulation steps = 1\n",
      "  Total optimization steps = 350\n",
      "  Number of trainable parameters = 11684353\n"
     ]
    },
    {
     "data": {
      "application/vnd.jupyter.widget-view+json": {
       "model_id": "04ae5ae83074479d88fbc41e7f150a45",
       "version_major": 2,
       "version_minor": 0
      },
      "text/plain": [
       "  0%|          | 0/350 [00:00<?, ?it/s]"
      ]
     },
     "metadata": {},
     "output_type": "display_data"
    }
   ],
   "source": [
    "trainer.train()"
   ]
  },
  {
   "attachments": {},
   "cell_type": "markdown",
   "metadata": {},
   "source": [
    "## Inference"
   ]
  },
  {
   "cell_type": "code",
   "execution_count": null,
   "metadata": {},
   "outputs": [],
   "source": []
  },
  {
   "cell_type": "code",
   "execution_count": null,
   "metadata": {},
   "outputs": [],
   "source": [
    "import torch\n",
    "from transformers import AlbertTokenizer, AlbertForMultipleChoice\n",
    "\n",
    "model_name = \"albert-base-v2\"\n",
    "tokenizer = AlbertTokenizer.from_pretrained(model_name)\n",
    "model = AlbertForMultipleChoice.from_pretrained(model_name)\n",
    "\n",
    "prompt = \"In Italy, pizza served in formal settings, such as at a restaurant, is presented unsliced.\"\n",
    "choice0 = \"It is eaten with a fork and a knife.\"\n",
    "choice1 = \"It is eaten while held in the hand.\"\n",
    "labels = torch.tensor(0).unsqueeze(0)  # choice0 is correct (according to Wikipedia ;)), batch size 1"
   ]
  },
  {
   "cell_type": "code",
   "execution_count": null,
   "metadata": {},
   "outputs": [],
   "source": [
    "encoding = tokenizer([prompt, prompt], [choice0, choice1], return_tensors=\"pt\", padding=True)\n",
    "outputs = model(**{k: v.unsqueeze(0) for k, v in encoding.items()}, labels=labels)  # batch size is 1\n",
    "\n",
    "loss = outputs.loss\n",
    "logits = outputs.logits\n",
    "\n",
    "predicted_class = logits.argmax().item()\n"
   ]
  },
  {
   "cell_type": "code",
   "execution_count": null,
   "metadata": {},
   "outputs": [],
   "source": [
    "predicted_class"
   ]
  },
  {
   "cell_type": "code",
   "execution_count": null,
   "metadata": {},
   "outputs": [],
   "source": []
  },
  {
   "cell_type": "code",
   "execution_count": null,
   "metadata": {},
   "outputs": [],
   "source": []
  }
 ],
 "metadata": {
  "kernelspec": {
   "display_name": "Python 3",
   "language": "python",
   "name": "python3"
  },
  "language_info": {
   "codemirror_mode": {
    "name": "ipython",
    "version": 3
   },
   "file_extension": ".py",
   "mimetype": "text/x-python",
   "name": "python",
   "nbconvert_exporter": "python",
   "pygments_lexer": "ipython3",
   "version": "3.10.6 (main, Aug 30 2022, 05:12:36) [Clang 13.1.6 (clang-1316.0.21.2.5)]"
  },
  "orig_nbformat": 4,
  "vscode": {
   "interpreter": {
    "hash": "aee8b7b246df8f9039afb4144a1f6fd8d2ca17a180786b69acc140d282b71a49"
   }
  }
 },
 "nbformat": 4,
 "nbformat_minor": 2
}
