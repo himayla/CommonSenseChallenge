{
 "cells": [
  {
   "cell_type": "markdown",
   "metadata": {},
   "source": [
    "Training code is based on: https://huggingface.co/docs/transformers/tasks/multiple_choice.\n",
    "Evaluation is based on: https://medium.com/nlplanet/bert-finetuning-with-hugging-face-and-training-visualizations-with-tensorboard-46368a57fc97"
   ]
  },
  {
   "cell_type": "code",
   "execution_count": null,
   "metadata": {},
   "outputs": [],
   "source": [
    "import pandas as pd\n",
    "\n",
    "# Load data\n",
    "dir = \"common-sense\"\n",
    "\n",
    "train_file = os.path.join(dir, \"train_data.csv\")\n",
    "train_labels_file = os.path.join(dir, \"train_answers.csv\")\n",
    "\n",
    "df_sentences = pd.read_csv(train_file)\n",
    "df_labels = pd.read_csv(train_labels_file)"
   ]
  },
  {
   "cell_type": "code",
   "execution_count": null,
   "metadata": {},
   "outputs": [],
   "source": [
    "# Combine sentences and labels dataframes\n",
    "df = pd.merge(df_sentences, df_labels, on=\"id\").drop([\"id\"], axis=1)\n",
    "df = df.rename(columns={\"FalseSent\": \"sent\", \"answer\": \"label\"})"
   ]
  },
  {
   "cell_type": "code",
   "execution_count": null,
   "metadata": {},
   "outputs": [],
   "source": [
    "def label(x):\n",
    "    \"\"\"Convert options to (integer) labels\"\"\"\n",
    "    if x == 'A':\n",
    "        return 0\n",
    "    elif x == 'B':\n",
    "        return 1\n",
    "    else:\n",
    "        return 2\n",
    "    \n",
    "df['label'] = df['label'].apply(label)"
   ]
  },
  {
   "cell_type": "code",
   "execution_count": null,
   "metadata": {},
   "outputs": [],
   "source": [
    "df.head()"
   ]
  },
  {
   "cell_type": "code",
   "execution_count": null,
   "metadata": {},
   "outputs": [],
   "source": [
    "from datasets import Dataset, dataset_dict, load_metric\n",
    "\n",
    "# Convert to huggingface dataset and split in train/test\n",
    "data = Dataset.from_pandas(df).train_test_split(test_size=0.2)\n",
    "data = data.class_encode_column(\"label\")"
   ]
  },
  {
   "cell_type": "code",
   "execution_count": null,
   "metadata": {},
   "outputs": [],
   "source": [
    "from transformers import AutoTokenizer\n",
    "\n",
    "options = ['OptionA', 'OptionB', 'OptionC']\n",
    "\n",
    "tokenizer = AutoTokenizer.from_pretrained(\"bert-base-uncased\")\n",
    "\n",
    "def preprocess_function(examples: Dataset) -> dataset_dict:\n",
    "    \"\"\" Perform preprocessing of the input.\n",
    "        # Arguments\n",
    "        Dataset: Huggingface Dataset \n",
    "        # Output\n",
    "        Huggingface dataset_dict with the tokenized examples \n",
    "        with corresponding input_ids, attention_mask, and labels.\n",
    "    \"\"\"\n",
    "    # Make copies of sent field\n",
    "    copied_sent = [[i] * 3 for i in examples[\"sent\"]]\n",
    "\n",
    "    # Combine FalseSent with 3 possible options\n",
    "    options_sents = [\n",
    "        [f\"{header} {examples[option][i]}\" for option in options] for i, header in enumerate(examples[\"sent\"])\n",
    "    ]\n",
    "\n",
    "    # Flatten lists\n",
    "    copied_sent = sum(copied_sent, [])\n",
    "    options_sents = sum(options_sents, [])\n",
    "\n",
    "    # Tokenize flattened lists\n",
    "    tokenized_examples = tokenizer(copied_sent, options_sents, truncation=True)\n",
    "\n",
    "    # Unflatten \n",
    "    return {k: [v[i : i + 3] for i in range(0, len(v), 3)] for k, v in tokenized_examples.items()}\n",
    "\n",
    "# Apply preprocess function on entire dataset\n",
    "tokenized = data.map(preprocess_function, batched=True)"
   ]
  },
  {
   "cell_type": "code",
   "execution_count": null,
   "metadata": {},
   "outputs": [],
   "source": [
    "from dataclasses import dataclass\n",
    "from transformers.tokenization_utils_base import PreTrainedTokenizerBase, PaddingStrategy\n",
    "from typing import Optional, Union\n",
    "import torch\n",
    "\n",
    "@dataclass\n",
    "class DataCollatorForMultipleChoice:\n",
    "    \"\"\"\n",
    "    Data collator that will dynamically pad the inputs for multiple choice received.\n",
    "    Flattens all model inputs, apply padding, unflatten results.\n",
    "    \"\"\"\n",
    "\n",
    "    tokenizer: PreTrainedTokenizerBase\n",
    "    padding: Union[bool, str, PaddingStrategy] = True\n",
    "    max_length: Optional[int] = None\n",
    "    pad_to_multiple_of: Optional[int] = None\n",
    "\n",
    "    def __call__(self, features):\n",
    "        label_name = \"label\" if \"label\" in features[0].keys() else \"labels\"\n",
    "        labels = [feature.pop(label_name) for feature in features]\n",
    "        batch_size = len(features)\n",
    "        num_choices = len(features[0][\"input_ids\"])\n",
    "        flattened_features = [\n",
    "            [{k: v[i] for k, v in feature.items()} for i in range(num_choices)] for feature in features\n",
    "        ]\n",
    "        flattened_features = sum(flattened_features, [])\n",
    "\n",
    "        batch = self.tokenizer.pad(\n",
    "            flattened_features,\n",
    "            padding=self.padding,\n",
    "            max_length=self.max_length,\n",
    "            pad_to_multiple_of=self.pad_to_multiple_of,\n",
    "            return_tensors=\"pt\",\n",
    "        )\n",
    "\n",
    "        batch = {k: v.view(batch_size, num_choices, -1) for k, v in batch.items()}\n",
    "        batch[\"labels\"] = torch.tensor(labels, dtype=torch.int64)\n",
    "        return batch"
   ]
  },
  {
   "cell_type": "code",
   "execution_count": null,
   "metadata": {},
   "outputs": [],
   "source": [
    "from transformers import AutoModelForMultipleChoice, TrainingArguments, Trainer\n",
    "\n",
    "# Load BERT model\n",
    "MODEL_NAME = \"bert-base-uncased\"\n",
    "CHECKPOINT = \"checkpoint-500/\"\n",
    "\n",
    "OUTPUT_DIR = f\"results/{MODEL_NAME}-{CHECKPOINT}\"\n",
    "\n",
    "# Load model either new or from last checkpoint\n",
    "try:\n",
    "    model = AutoModelForMultipleChoice.from_pretrained(f\"results/{CHECKPOINT}\")\n",
    "except:\n",
    "    model = AutoModelForMultipleChoice.from_pretrained(MODEL_NAME)"
   ]
  },
  {
   "cell_type": "code",
   "execution_count": null,
   "metadata": {},
   "outputs": [],
   "source": [
    "training_args = TrainingArguments(\n",
    "    output_dir = OUTPUT_DIR,\n",
    "    evaluation_strategy = \"epoch\",\n",
    "    learning_rate = 5e-5,\n",
    "    per_device_train_batch_size = 16,\n",
    "    per_device_eval_batch_size = 16,\n",
    "    num_train_epochs = 3, # Default = 3\n",
    "    weight_decay = 0.01,\n",
    ")\n",
    "\n",
    "trainer = Trainer(\n",
    "    model = model,\n",
    "    args = training_args,\n",
    "    train_dataset = tokenized[\"train\"],\n",
    "    eval_dataset = tokenized[\"test\"],\n",
    "    tokenizer = tokenizer,\n",
    "    data_collator = DataCollatorForMultipleChoice(tokenizer = tokenizer),\n",
    "    )\n",
    "\n",
    "trainer.train()"
   ]
  },
  {
   "cell_type": "code",
   "execution_count": null,
   "metadata": {},
   "outputs": [],
   "source": [
    "import numpy as np\n",
    "\n",
    "metric = load_metric(\"accuracy\")\n",
    "\n",
    "test_predictions = trainer.predict(tokenized[\"test\"])\n",
    "\n",
    "# For each prediction, create the label with argmax\n",
    "test_predictions_argmax = np.argmax(test_predictions[0], axis=1)\n",
    "# Retrieve reference labels from test set\n",
    "test_references = np.array(tokenized[\"test\"][\"label\"])\n",
    "# Compute accuracy\n",
    "metric.compute(predictions=test_predictions_argmax, references=test_references)"
   ]
  }
 ],
 "metadata": {
  "kernelspec": {
   "display_name": "Python 3.10.6 64-bit",
   "language": "python",
   "name": "python3"
  },
  "language_info": {
   "codemirror_mode": {
    "name": "ipython",
    "version": 3
   },
   "file_extension": ".py",
   "mimetype": "text/x-python",
   "name": "python",
   "nbconvert_exporter": "python",
   "pygments_lexer": "ipython3",
   "version": "3.10.6"
  },
  "orig_nbformat": 4,
  "vscode": {
   "interpreter": {
    "hash": "aee8b7b246df8f9039afb4144a1f6fd8d2ca17a180786b69acc140d282b71a49"
   }
  }
 },
 "nbformat": 4,
 "nbformat_minor": 2
}
