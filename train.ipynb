{
 "cells": [
  {
   "attachments": {},
   "cell_type": "markdown",
   "metadata": {},
   "source": [
    "- Code is derived from: https://huggingface.co/docs/transformers/tasks/multiple_choice."
   ]
  },
  {
   "cell_type": "code",
   "execution_count": null,
   "metadata": {},
   "outputs": [],
   "source": [
    "import pandas as pd\n",
    "\n",
    "# Load data\n",
    "dir = \"common-sense\"\n",
    "\n",
    "train_file = f\"{dir}/train_data.csv\"\n",
    "train_labels_file = f\"{dir}/train_answers.csv\"\n",
    "\n",
    "df_sentences = pd.read_csv(train_file)\n",
    "df_labels = pd.read_csv(train_labels_file)"
   ]
  },
  {
   "cell_type": "code",
   "execution_count": null,
   "metadata": {},
   "outputs": [],
   "source": [
    "# Combine sentences and labels dataframes\n",
    "df = pd.merge(df_sentences, df_labels, on=\"id\")\n",
    "\n",
    "# Rename answer to label and options to correspond with binary label\n",
    "df = df.rename(columns={\"answer\": \"label\"})"
   ]
  },
  {
   "attachments": {},
   "cell_type": "markdown",
   "metadata": {},
   "source": [
    "- `Falsesent`: field is the start of a sentence\n",
    "- `0` and `1` and `2`: show possible the explanations of this sentence\n",
    "- `label` : identifies correct epxplanation"
   ]
  },
  {
   "cell_type": "code",
   "execution_count": null,
   "metadata": {},
   "outputs": [],
   "source": [
    "from datasets import Dataset, load_metric\n",
    "\n",
    "# Convert dataframe to huggingface dataset, split in train/test(for eval) set, encode label\n",
    "data = Dataset.from_pandas(df).train_test_split(test_size = 0.3).class_encode_column(\"label\")"
   ]
  },
  {
   "attachments": {},
   "cell_type": "markdown",
   "metadata": {},
   "source": [
    "We now, instead of a Pandas dataframe, have a Hugginface DatasetDict containing `data[\"train\"]` and `data[\"test\"]`."
   ]
  },
  {
   "cell_type": "code",
   "execution_count": null,
   "metadata": {},
   "outputs": [],
   "source": [
    "labels = {0: 'A', 1: 'B', 2: 'C'}\n",
    "\n",
    "def show(example):\n",
    "    \"\"\"\n",
    "        Shows an example in the dataset\n",
    "    \"\"\"\n",
    "    print(f\"Sentence: {example['FalseSent']}\\n\")\n",
    "\n",
    "    print(f\"Options:\\nA) {example['0']}\\nB) {example['1']}\\nC) {example['2']}\")\n",
    "\n",
    "    gold_label = example[f\"{example['label']}\"]\n",
    "    print(f\"Correct label: {labels[example['label']]}\\n\")\n",
    "    print(f\"Ground truth: {gold_label}\")\n"
   ]
  },
  {
   "cell_type": "code",
   "execution_count": null,
   "metadata": {},
   "outputs": [],
   "source": [
    "show(data[\"train\"][1])"
   ]
  },
  {
   "attachments": {},
   "cell_type": "markdown",
   "metadata": {},
   "source": [
    "## Preprocessing"
   ]
  },
  {
   "cell_type": "code",
   "execution_count": null,
   "metadata": {},
   "outputs": [],
   "source": [
    "from transformers import AutoTokenizer\n",
    "\n",
    "# Huggingface converts binary column names back to strings, therefore options are now strings\n",
    "options = [\"0\", \"1\", \"2\"]\n",
    "\n",
    "tokenizer = AutoTokenizer.from_pretrained(\"bert-base-uncased\")\n",
    "\n",
    "def preprocess_function(examples: Dataset):\n",
    "    \"\"\" Perform preprocessing of the input.\n",
    "        # Arguments\n",
    "            Dataset: Huggingface Dataset containing features\n",
    "        # Output\n",
    "            Huggingface dataset_dict with the tokenized examples \n",
    "        with corresponding input_ids, attention_mask, and labels.\n",
    "    \"\"\"\n",
    "    first = [[i] * 3 for i in examples[\"FalseSent\"]]\n",
    "\n",
    "    second = [\n",
    "        [f\"{examples[opt][i]}\" for opt in options] for i, j in enumerate(examples['FalseSent'])\n",
    "    ]\n",
    "\n",
    "    first = sum(first, [])\n",
    "    sec = sum(second, [])\n",
    "\n",
    "    # Truncation makes sure to make sure input is not longer than max\n",
    "    tokenized_examples = tokenizer(first, sec, truncation=True)\n",
    " \n",
    "    return {k: [v[i : i + 3] for i in range(0, len(v), 3)] for k, v in tokenized_examples.items()}\n",
    "\n",
    "\n",
    "# Apply preprocess function on entire dataset\n",
    "tokenized = data.map(preprocess_function, batched=True)"
   ]
  },
  {
   "attachments": {},
   "cell_type": "markdown",
   "metadata": {},
   "source": [
    "We now have tokenized the dataset: every FalseSent is paired with the 3 options and these pairs are tokenized so that every row in the dataset has 3 `inputs ids`, `token_type_ids`, and `attention masks`.\n",
    "\n",
    "We now first check if everything is correct."
   ]
  },
  {
   "cell_type": "code",
   "execution_count": null,
   "metadata": {},
   "outputs": [],
   "source": [
    "# Check if tokenized has worked: how many examples (5600), how many options (3), list of with varying features because no padding yet\n",
    "print(len(tokenized[\"train\"][\"input_ids\"]), len(tokenized[\"train\"][\"input_ids\"][0]), [len(x) for x in tokenized[\"train\"][\"input_ids\"][0]])"
   ]
  },
  {
   "cell_type": "code",
   "execution_count": null,
   "metadata": {},
   "outputs": [],
   "source": [
    "# Check decoded tokenized and compare with ground truth \n",
    "idx = 2\n",
    "[tokenizer.decode(tokenized[\"train\"][\"input_ids\"][idx][i]) for i in range(3)]\n"
   ]
  },
  {
   "cell_type": "code",
   "execution_count": null,
   "metadata": {},
   "outputs": [],
   "source": [
    "show(data[\"train\"][2])"
   ]
  },
  {
   "attachments": {},
   "cell_type": "markdown",
   "metadata": {},
   "source": [
    "Sanity check passed! :-)"
   ]
  },
  {
   "attachments": {},
   "cell_type": "markdown",
   "metadata": {},
   "source": [
    "## Fine-tuning"
   ]
  },
  {
   "attachments": {},
   "cell_type": "markdown",
   "metadata": {},
   "source": [
    "To run this on your device you need to unzip the results folder"
   ]
  },
  {
   "cell_type": "code",
   "execution_count": null,
   "metadata": {},
   "outputs": [],
   "source": [
    "from transformers import AutoModelForMultipleChoice, TrainingArguments, Trainer\n",
    "\n",
    "# Load BERT model\n",
    "MODEL_NAME = \"bert-base-uncased\"\n",
    "CHECKPOINT = \"checkpoint-500\"\n",
    "\n",
    "model = AutoModelForMultipleChoice.from_pretrained(f\"results/{MODEL_NAME}/{CHECKPOINT}\")"
   ]
  },
  {
   "cell_type": "code",
   "execution_count": null,
   "metadata": {},
   "outputs": [],
   "source": [
    "training_args = TrainingArguments(\n",
    "    output_dir = f\"./results/{MODEL_NAME}\"\n",
    "    evaluation_strategy = \"epoch\",\n",
    "    learning_rate = 5e-5,\n",
    "    per_device_train_batch_size = 16,\n",
    "    per_device_eval_batch_size = 16,\n",
    "    num_train_epochs = 1, # Default = 3\n",
    "    weight_decay = 0.01,\n",
    ")"
   ]
  },
  {
   "attachments": {},
   "cell_type": "markdown",
   "metadata": {},
   "source": [
    "Before we actually train we need to add padding to take the varying lengths of sentences and options into account."
   ]
  },
  {
   "cell_type": "code",
   "execution_count": null,
   "metadata": {},
   "outputs": [],
   "source": [
    "from dataclasses import dataclass\n",
    "from transformers.tokenization_utils_base import PreTrainedTokenizerBase, PaddingStrategy\n",
    "from typing import Optional, Union\n",
    "import torch\n",
    "\n",
    "@dataclass\n",
    "class DataCollatorForMultipleChoice:\n",
    "    \"\"\"\n",
    "    Data collator that will dynamically pad the inputs for multiple choice received.\n",
    "    Flattens all model inputs, apply padding, unflatten results.\n",
    "    \"\"\"\n",
    "\n",
    "    tokenizer: PreTrainedTokenizerBase\n",
    "    padding: Union[bool, str, PaddingStrategy] = True\n",
    "    max_length: Optional[int] = None\n",
    "    pad_to_multiple_of: Optional[int] = None\n",
    "\n",
    "    def __call__(self, features):\n",
    "        label_name = \"label\" if \"label\" in features[0].keys() else \"labels\"\n",
    "        labels = [feature.pop(label_name) for feature in features]\n",
    "        batch_size = len(features)\n",
    "        num_choices = len(features[0][\"input_ids\"])\n",
    "        flattened_features = [\n",
    "            [{k: v[i] for k, v in feature.items()} for i in range(num_choices)] for feature in features\n",
    "        ]\n",
    "        flattened_features = sum(flattened_features, [])\n",
    "\n",
    "        batch = self.tokenizer.pad(\n",
    "            flattened_features,\n",
    "            padding=self.padding,\n",
    "            max_length=self.max_length,\n",
    "            pad_to_multiple_of=self.pad_to_multiple_of,\n",
    "            return_tensors=\"pt\",\n",
    "        )\n",
    "\n",
    "        batch = {k: v.view(batch_size, num_choices, -1) for k, v in batch.items()}\n",
    "        batch[\"labels\"] = torch.tensor(labels, dtype=torch.long)\n",
    "        return batch"
   ]
  },
  {
   "attachments": {},
   "cell_type": "markdown",
   "metadata": {},
   "source": [
    "Check if padding function works okay:"
   ]
  },
  {
   "cell_type": "code",
   "execution_count": null,
   "metadata": {},
   "outputs": [],
   "source": [
    "accepted_keys = [\"input_ids\", \"attention_mask\", \"label\"]\n",
    "features = [{k: v for k, v in tokenized[\"train\"][i].items() if k in accepted_keys} for i in range(10)]\n",
    "\n",
    "batch = DataCollatorForMultipleChoice(tokenizer)(features)"
   ]
  },
  {
   "cell_type": "code",
   "execution_count": null,
   "metadata": {},
   "outputs": [],
   "source": [
    "[tokenizer.decode(batch[\"input_ids\"][2][i].tolist()) for i in range(3)]"
   ]
  },
  {
   "cell_type": "code",
   "execution_count": null,
   "metadata": {},
   "outputs": [],
   "source": [
    "show(data[\"train\"][2])"
   ]
  },
  {
   "attachments": {},
   "cell_type": "markdown",
   "metadata": {},
   "source": [
    "All good :-)"
   ]
  },
  {
   "cell_type": "code",
   "execution_count": null,
   "metadata": {},
   "outputs": [],
   "source": [
    "import numpy as np\n",
    "\n",
    "def compute_metrics(eval_predictions):\n",
    "    \"\"\"\n",
    "    Compute metrics from the predictions\n",
    "    \"\"\"\n",
    "    predictions, label_ids = eval_predictions\n",
    "    preds = np.argmax(predictions, axis = 1)\n",
    "    return {\"accuracy\": (preds == label_ids).astype(np.float32).mean().item()}"
   ]
  },
  {
   "cell_type": "code",
   "execution_count": null,
   "metadata": {},
   "outputs": [],
   "source": [
    "trainer = Trainer(\n",
    "    model = model,\n",
    "    args = training_args,\n",
    "    train_dataset = tokenized[\"train\"],\n",
    "    eval_dataset = tokenized[\"test\"],\n",
    "    tokenizer = tokenizer,\n",
    "    data_collator = DataCollatorForMultipleChoice(tokenizer = tokenizer),\n",
    "    compute_metrics = compute_metrics,\n",
    "    )"
   ]
  },
  {
   "cell_type": "code",
   "execution_count": null,
   "metadata": {},
   "outputs": [],
   "source": [
    "trainer.train()"
   ]
  }
 ],
 "metadata": {
  "kernelspec": {
   "display_name": "Python 3.10.6 64-bit",
   "language": "python",
   "name": "python3"
  },
  "language_info": {
   "codemirror_mode": {
    "name": "ipython",
    "version": 3
   },
   "file_extension": ".py",
   "mimetype": "text/x-python",
   "name": "python",
   "nbconvert_exporter": "python",
   "pygments_lexer": "ipython3",
   "version": "3.10.6 (main, Aug 30 2022, 05:12:36) [Clang 13.1.6 (clang-1316.0.21.2.5)]"
  },
  "orig_nbformat": 4,
  "vscode": {
   "interpreter": {
    "hash": "aee8b7b246df8f9039afb4144a1f6fd8d2ca17a180786b69acc140d282b71a49"
   }
  }
 },
 "nbformat": 4,
 "nbformat_minor": 2
}
