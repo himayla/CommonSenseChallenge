{
 "cells": [
  {
   "cell_type": "code",
   "execution_count": 1,
   "metadata": {},
   "outputs": [
    {
     "data": {
      "text/html": [
       "<div>\n",
       "<style scoped>\n",
       "    .dataframe tbody tr th:only-of-type {\n",
       "        vertical-align: middle;\n",
       "    }\n",
       "\n",
       "    .dataframe tbody tr th {\n",
       "        vertical-align: top;\n",
       "    }\n",
       "\n",
       "    .dataframe thead th {\n",
       "        text-align: right;\n",
       "    }\n",
       "</style>\n",
       "<table border=\"1\" class=\"dataframe\">\n",
       "  <thead>\n",
       "    <tr style=\"text-align: right;\">\n",
       "      <th></th>\n",
       "      <th>id</th>\n",
       "      <th>FalseSent</th>\n",
       "      <th>OptionA</th>\n",
       "      <th>OptionB</th>\n",
       "      <th>OptionC</th>\n",
       "      <th>label</th>\n",
       "    </tr>\n",
       "  </thead>\n",
       "  <tbody>\n",
       "    <tr>\n",
       "      <th>0</th>\n",
       "      <td>sentence_1</td>\n",
       "      <td>I sting a mosquito</td>\n",
       "      <td>A human is a mammal</td>\n",
       "      <td>A human is omnivorous</td>\n",
       "      <td>A human has not stings</td>\n",
       "      <td>C</td>\n",
       "    </tr>\n",
       "    <tr>\n",
       "      <th>1</th>\n",
       "      <td>sentence_2</td>\n",
       "      <td>A giraffe is a person.</td>\n",
       "      <td>Giraffes can drink water from a lake.</td>\n",
       "      <td>A giraffe is not a human being.</td>\n",
       "      <td>.Giraffes usually eat leaves.</td>\n",
       "      <td>B</td>\n",
       "    </tr>\n",
       "    <tr>\n",
       "      <th>2</th>\n",
       "      <td>sentence_3</td>\n",
       "      <td>A normal closet is larger than a walk-in closet.</td>\n",
       "      <td>Walk-in closets are normal closets.</td>\n",
       "      <td>A person can sleep in a walk-in closet.</td>\n",
       "      <td>A person cannot walk into a normal closet beca...</td>\n",
       "      <td>C</td>\n",
       "    </tr>\n",
       "    <tr>\n",
       "      <th>3</th>\n",
       "      <td>sentence_4</td>\n",
       "      <td>I like to ride my chocolate</td>\n",
       "      <td>Chocolate is delicious and bikes are not</td>\n",
       "      <td>Chocolate is a food, not a transportation unit</td>\n",
       "      <td>My bike can't ride a chocolate</td>\n",
       "      <td>B</td>\n",
       "    </tr>\n",
       "    <tr>\n",
       "      <th>4</th>\n",
       "      <td>sentence_5</td>\n",
       "      <td>A GIRL WON THE RACE WITH HORSE</td>\n",
       "      <td>GIRL HAVE BEAUTIFUL HAIR BUT THE HORSE DOESN'T...</td>\n",
       "      <td>THE GIRL WEAR DRESS BUT THE HORSE DOESN'T HAVE .</td>\n",
       "      <td>HORSE RAN FASTER THAN HER</td>\n",
       "      <td>C</td>\n",
       "    </tr>\n",
       "  </tbody>\n",
       "</table>\n",
       "</div>"
      ],
      "text/plain": [
       "           id                                         FalseSent  \\\n",
       "0  sentence_1                                I sting a mosquito   \n",
       "1  sentence_2                            A giraffe is a person.   \n",
       "2  sentence_3  A normal closet is larger than a walk-in closet.   \n",
       "3  sentence_4                       I like to ride my chocolate   \n",
       "4  sentence_5                    A GIRL WON THE RACE WITH HORSE   \n",
       "\n",
       "                                             OptionA  \\\n",
       "0                                A human is a mammal   \n",
       "1              Giraffes can drink water from a lake.   \n",
       "2                Walk-in closets are normal closets.   \n",
       "3           Chocolate is delicious and bikes are not   \n",
       "4  GIRL HAVE BEAUTIFUL HAIR BUT THE HORSE DOESN'T...   \n",
       "\n",
       "                                            OptionB  \\\n",
       "0                             A human is omnivorous   \n",
       "1                   A giraffe is not a human being.   \n",
       "2           A person can sleep in a walk-in closet.   \n",
       "3    Chocolate is a food, not a transportation unit   \n",
       "4  THE GIRL WEAR DRESS BUT THE HORSE DOESN'T HAVE .   \n",
       "\n",
       "                                             OptionC label  \n",
       "0                             A human has not stings     C  \n",
       "1                      .Giraffes usually eat leaves.     B  \n",
       "2  A person cannot walk into a normal closet beca...     C  \n",
       "3                     My bike can't ride a chocolate     B  \n",
       "4                          HORSE RAN FASTER THAN HER     C  "
      ]
     },
     "execution_count": 1,
     "metadata": {},
     "output_type": "execute_result"
    }
   ],
   "source": [
    "import pandas as pd\n",
    "\n",
    "df_sentences = pd.read_csv(\"common-sense/train_data.csv\")\n",
    "df_labels = pd.read_csv(\"common-sense/train_answers.csv\")\n",
    "df = pd.merge(df_sentences, df_labels, on=\"id\")\n",
    "df = df.rename(columns={\"answer\":\"label\"})\n",
    "df.head()"
   ]
  },
  {
   "cell_type": "code",
   "execution_count": 2,
   "metadata": {},
   "outputs": [
    {
     "name": "stdout",
     "output_type": "stream",
     "text": [
      "8000\n"
     ]
    }
   ],
   "source": [
    "print(len(df))"
   ]
  },
  {
   "cell_type": "code",
   "execution_count": 3,
   "metadata": {},
   "outputs": [
    {
     "data": {
      "text/html": [
       "<div>\n",
       "<style scoped>\n",
       "    .dataframe tbody tr th:only-of-type {\n",
       "        vertical-align: middle;\n",
       "    }\n",
       "\n",
       "    .dataframe tbody tr th {\n",
       "        vertical-align: top;\n",
       "    }\n",
       "\n",
       "    .dataframe thead th {\n",
       "        text-align: right;\n",
       "    }\n",
       "</style>\n",
       "<table border=\"1\" class=\"dataframe\">\n",
       "  <thead>\n",
       "    <tr style=\"text-align: right;\">\n",
       "      <th></th>\n",
       "      <th>OptionA</th>\n",
       "      <th>OptionB</th>\n",
       "      <th>OptionC</th>\n",
       "    </tr>\n",
       "  </thead>\n",
       "  <tbody>\n",
       "    <tr>\n",
       "      <th>n_answers</th>\n",
       "      <td>2597</td>\n",
       "      <td>2665</td>\n",
       "      <td>2738</td>\n",
       "    </tr>\n",
       "  </tbody>\n",
       "</table>\n",
       "</div>"
      ],
      "text/plain": [
       "           OptionA  OptionB  OptionC\n",
       "n_answers     2597     2665     2738"
      ]
     },
     "execution_count": 3,
     "metadata": {},
     "output_type": "execute_result"
    }
   ],
   "source": [
    "n_0 = len(df.loc[df['label'] == 'A'])\n",
    "n_1 = len(df.loc[df['label'] == 'B'])\n",
    "n_2 = len(df.loc[df['label'] == 'C'])\n",
    "\n",
    "pd.DataFrame([[n_0, n_1, n_2]], columns=['OptionA', 'OptionB', 'OptionC'], index=[\"n_answers\"])"
   ]
  },
  {
   "cell_type": "code",
   "execution_count": 4,
   "metadata": {},
   "outputs": [
    {
     "data": {
      "application/vnd.jupyter.widget-view+json": {
       "model_id": "8b28295131bc46a3b8db3bf8c6d7dd01",
       "version_major": 2,
       "version_minor": 0
      },
      "text/plain": [
       "Flattening the indices:   0%|          | 0/6 [00:00<?, ?ba/s]"
      ]
     },
     "metadata": {},
     "output_type": "display_data"
    },
    {
     "data": {
      "application/vnd.jupyter.widget-view+json": {
       "model_id": "15afdac68bfe4806bf6e95be333902e1",
       "version_major": 2,
       "version_minor": 0
      },
      "text/plain": [
       "Casting to class labels:   0%|          | 0/6 [00:00<?, ?ba/s]"
      ]
     },
     "metadata": {},
     "output_type": "display_data"
    },
    {
     "data": {
      "application/vnd.jupyter.widget-view+json": {
       "model_id": "f5c4ed3a83b94192ba145103991c6427",
       "version_major": 2,
       "version_minor": 0
      },
      "text/plain": [
       "Flattening the indices:   0%|          | 0/3 [00:00<?, ?ba/s]"
      ]
     },
     "metadata": {},
     "output_type": "display_data"
    },
    {
     "data": {
      "application/vnd.jupyter.widget-view+json": {
       "model_id": "933491078d844cc68041da529e63d2e9",
       "version_major": 2,
       "version_minor": 0
      },
      "text/plain": [
       "Casting to class labels:   0%|          | 0/3 [00:00<?, ?ba/s]"
      ]
     },
     "metadata": {},
     "output_type": "display_data"
    }
   ],
   "source": [
    "from datasets import Dataset\n",
    "\n",
    "data = Dataset.from_pandas(df).train_test_split(test_size=0.3, seed=42).class_encode_column(\"label\")"
   ]
  },
  {
   "cell_type": "code",
   "execution_count": 5,
   "metadata": {},
   "outputs": [],
   "source": [
    "count = {}\n",
    "for i in data:\n",
    "    n_options = {'A': 0, 'B': 0, 'C': 0}\n",
    "    for example in data[i]:\n",
    "        if example['label'] == 0:\n",
    "            n_options['A'] += 1   \n",
    "        elif example['label'] == 1:\n",
    "            n_options['B'] += 1   \n",
    "        else:\n",
    "            n_options['C'] += 1             \n",
    "    count[i] = n_options"
   ]
  },
  {
   "cell_type": "code",
   "execution_count": 6,
   "metadata": {},
   "outputs": [
    {
     "data": {
      "text/html": [
       "<div>\n",
       "<style scoped>\n",
       "    .dataframe tbody tr th:only-of-type {\n",
       "        vertical-align: middle;\n",
       "    }\n",
       "\n",
       "    .dataframe tbody tr th {\n",
       "        vertical-align: top;\n",
       "    }\n",
       "\n",
       "    .dataframe thead th {\n",
       "        text-align: right;\n",
       "    }\n",
       "</style>\n",
       "<table border=\"1\" class=\"dataframe\">\n",
       "  <thead>\n",
       "    <tr style=\"text-align: right;\">\n",
       "      <th></th>\n",
       "      <th>OptionA</th>\n",
       "      <th>OptionB</th>\n",
       "      <th>OptionC</th>\n",
       "    </tr>\n",
       "  </thead>\n",
       "  <tbody>\n",
       "    <tr>\n",
       "      <th>train</th>\n",
       "      <td>1789</td>\n",
       "      <td>1872</td>\n",
       "      <td>1939</td>\n",
       "    </tr>\n",
       "    <tr>\n",
       "      <th>test</th>\n",
       "      <td>808</td>\n",
       "      <td>793</td>\n",
       "      <td>799</td>\n",
       "    </tr>\n",
       "  </tbody>\n",
       "</table>\n",
       "</div>"
      ],
      "text/plain": [
       "       OptionA  OptionB  OptionC\n",
       "train     1789     1872     1939\n",
       "test       808      793      799"
      ]
     },
     "execution_count": 6,
     "metadata": {},
     "output_type": "execute_result"
    }
   ],
   "source": [
    "pd.DataFrame([list(count['train'].values()), list(count['test'].values())], columns=['OptionA', 'OptionB', 'OptionC'], index=[\"train\", \"test\"])"
   ]
  },
  {
   "cell_type": "code",
   "execution_count": 7,
   "metadata": {},
   "outputs": [
    {
     "name": "stdout",
     "output_type": "stream",
     "text": [
      "train\n",
      "Total: 5600\n",
      "OptionA\t 1789\n",
      "OptionB\t 1872\n",
      "OptionC\t 1939\n",
      "\n",
      "test\n",
      "Total: 2400\n",
      "OptionA\t 808\n",
      "OptionB\t 793\n",
      "OptionC\t 799\n",
      "\n"
     ]
    }
   ],
   "source": [
    "for i in count:\n",
    "    print(i)\n",
    "    total = sum(count[i].values())\n",
    "    print(f\"Total: {total}\")\n",
    "    for k, v in count[i].items():\n",
    "        print(f\"Option{k}\\t {v}\")\n",
    "    print()"
   ]
  },
  {
   "cell_type": "code",
   "execution_count": 8,
   "metadata": {},
   "outputs": [],
   "source": [
    "labels = {0: 'OptionA', 1: 'OptionB', 2: 'OptionC'}\n",
    "\n",
    "def show(example):\n",
    "    \"\"\"\n",
    "        Shows an example in the dataset\n",
    "    \"\"\"\n",
    "    print(f\"Sentence: {example['FalseSent']}\\n\")\n",
    "\n",
    "    print(f\"Options:\\nA) {example['OptionA']}\\nB) {example['OptionB']}\\nC) {example['OptionC']}\")\n",
    "\n",
    "    gold_label = example['label']\n",
    "    print(f\"Correct label: {example['label']}\\n\")\n",
    "    print(f\"Ground truth: {labels[gold_label]}\")\n"
   ]
  },
  {
   "cell_type": "code",
   "execution_count": 9,
   "metadata": {},
   "outputs": [
    {
     "name": "stdout",
     "output_type": "stream",
     "text": [
      "Sentence: Banana is the day before friday.\n",
      "\n",
      "Options:\n",
      "A) Bananas can be eaten anyday.\n",
      "B) Banana is a food, not a day.\n",
      "C) Bananas are not in the calendar.\n",
      "Correct label: 1\n",
      "\n",
      "Ground truth: OptionB\n"
     ]
    }
   ],
   "source": [
    "show(data[\"train\"][3])"
   ]
  },
  {
   "cell_type": "code",
   "execution_count": 10,
   "metadata": {},
   "outputs": [
    {
     "data": {
      "application/vnd.jupyter.widget-view+json": {
       "model_id": "55227ec91b62472ca9f19ba5d9d5c289",
       "version_major": 2,
       "version_minor": 0
      },
      "text/plain": [
       "  0%|          | 0/6 [00:00<?, ?ba/s]"
      ]
     },
     "metadata": {},
     "output_type": "display_data"
    },
    {
     "data": {
      "application/vnd.jupyter.widget-view+json": {
       "model_id": "b69d84ad459644a3958871cea89a629e",
       "version_major": 2,
       "version_minor": 0
      },
      "text/plain": [
       "  0%|          | 0/3 [00:00<?, ?ba/s]"
      ]
     },
     "metadata": {},
     "output_type": "display_data"
    }
   ],
   "source": [
    "from transformers import AutoTokenizer\n",
    "\n",
    "MODEL_NAME = \"bert-base-uncased\"\n",
    "tokenizer = AutoTokenizer.from_pretrained(f\"./models/results/{MODEL_NAME}/checkpoint-1000\")\n",
    "\n",
    "def preprocess_function(examples):\n",
    "    \"\"\" Perform preprocessing of the input.\n",
    "        # Arguments\n",
    "            Dataset: Huggingface Dataset containing features\n",
    "        # Output\n",
    "            Huggingface dataset_dict with the tokenized examples with corresponding input_ids, attention_mask, and labels.\n",
    "    \"\"\"\n",
    "    first = [[i] * 3 for i in examples[\"FalseSent\"]]\n",
    "\n",
    "    second = [\n",
    "        [f\"{examples[opt][i]}\" for opt in list(labels.values())] for i, j in enumerate(examples['FalseSent'])\n",
    "    ]\n",
    "\n",
    "    first = sum(first, [])\n",
    "    sec = sum(second, [])\n",
    "\n",
    "    # Truncation makes sure to make sure input is not longer than max\n",
    "    tokenized_examples = tokenizer(first, sec, truncation=True)\n",
    " \n",
    "    return {k: [v[i : i + 3] for i in range(0, len(v), 3)] for k, v in tokenized_examples.items()}\n",
    "\n",
    "# Apply preprocess function on entire dataset\n",
    "tokenized = data.map(preprocess_function, batched=True)"
   ]
  },
  {
   "cell_type": "code",
   "execution_count": 11,
   "metadata": {},
   "outputs": [
    {
     "data": {
      "text/plain": [
       "['[CLS] banana is the day before friday. [SEP] bananas can be eaten anyday. [SEP]',\n",
       " '[CLS] banana is the day before friday. [SEP] banana is a food, not a day. [SEP]',\n",
       " '[CLS] banana is the day before friday. [SEP] bananas are not in the calendar. [SEP]']"
      ]
     },
     "execution_count": 11,
     "metadata": {},
     "output_type": "execute_result"
    }
   ],
   "source": [
    "# Check decoded tokenized and compare with ground truth \n",
    "idx = 3\n",
    "[tokenizer.decode(tokenized[\"train\"][\"input_ids\"][idx][i]) for i in range(3)]"
   ]
  },
  {
   "cell_type": "code",
   "execution_count": 12,
   "metadata": {},
   "outputs": [],
   "source": [
    "from dataclasses import dataclass\n",
    "from transformers.tokenization_utils_base import PreTrainedTokenizerBase, PaddingStrategy\n",
    "from typing import Optional, Union\n",
    "import torch\n",
    "\n",
    "@dataclass\n",
    "class DataCollatorForMultipleChoice:\n",
    "    \"\"\"\n",
    "    Data collator that will dynamically pad the inputs for multiple choice received.\n",
    "    Flattens all model inputs, apply padding, unflatten results.\n",
    "    \"\"\"\n",
    "\n",
    "    tokenizer: PreTrainedTokenizerBase\n",
    "    padding: Union[bool, str, PaddingStrategy] = True\n",
    "    max_length: Optional[int] = None\n",
    "    pad_to_multiple_of: Optional[int] = None\n",
    "\n",
    "    def __call__(self, features):\n",
    "        label_name = \"label\" if \"label\" in features[0].keys() else \"labels\"\n",
    "        labels = [feature.pop(label_name) for feature in features]\n",
    "        batch_size = len(features)\n",
    "        num_choices = len(features[0][\"input_ids\"])\n",
    "        flattened_features = [\n",
    "            [{k: v[i] for k, v in feature.items()} for i in range(num_choices)] for feature in features\n",
    "        ]\n",
    "        flattened_features = sum(flattened_features, [])\n",
    "\n",
    "        batch = self.tokenizer.pad(\n",
    "            flattened_features,\n",
    "            padding=self.padding,\n",
    "            max_length=self.max_length,\n",
    "            pad_to_multiple_of=self.pad_to_multiple_of,\n",
    "            return_tensors=\"pt\",\n",
    "        )\n",
    "\n",
    "        batch = {k: v.view(batch_size, num_choices, -1) for k, v in batch.items()}\n",
    "        batch[\"labels\"] = torch.tensor(labels, dtype=torch.long)\n",
    "        return batch"
   ]
  },
  {
   "cell_type": "code",
   "execution_count": 13,
   "metadata": {},
   "outputs": [
    {
     "name": "stderr",
     "output_type": "stream",
     "text": [
      "You're using a BertTokenizerFast tokenizer. Please note that with a fast tokenizer, using the `__call__` method is faster than using a method to encode the text followed by a call to the `pad` method to get a padded encoding.\n"
     ]
    }
   ],
   "source": [
    "accepted_keys = [\"input_ids\", \"attention_mask\", \"label\"]\n",
    "features = [{k: v for k, v in tokenized[\"train\"][i].items() if k in accepted_keys} for i in range(10)]\n",
    "\n",
    "batch = DataCollatorForMultipleChoice(tokenizer)(features)"
   ]
  },
  {
   "cell_type": "code",
   "execution_count": 14,
   "metadata": {},
   "outputs": [
    {
     "data": {
      "text/plain": [
       "['[CLS] banana is the day before friday. [SEP] bananas can be eaten anyday. [SEP] [PAD] [PAD] [PAD] [PAD] [PAD] [PAD] [PAD] [PAD] [PAD] [PAD] [PAD] [PAD] [PAD] [PAD] [PAD] [PAD] [PAD] [PAD] [PAD] [PAD] [PAD]',\n",
       " '[CLS] banana is the day before friday. [SEP] banana is a food, not a day. [SEP] [PAD] [PAD] [PAD] [PAD] [PAD] [PAD] [PAD] [PAD] [PAD] [PAD] [PAD] [PAD] [PAD] [PAD] [PAD] [PAD] [PAD] [PAD] [PAD]',\n",
       " '[CLS] banana is the day before friday. [SEP] bananas are not in the calendar. [SEP] [PAD] [PAD] [PAD] [PAD] [PAD] [PAD] [PAD] [PAD] [PAD] [PAD] [PAD] [PAD] [PAD] [PAD] [PAD] [PAD] [PAD] [PAD] [PAD] [PAD] [PAD]']"
      ]
     },
     "execution_count": 14,
     "metadata": {},
     "output_type": "execute_result"
    }
   ],
   "source": [
    "[tokenizer.decode(batch[\"input_ids\"][idx][i].tolist()) for i in range(3)]"
   ]
  },
  {
   "cell_type": "code",
   "execution_count": 18,
   "metadata": {},
   "outputs": [
    {
     "data": {
      "text/plain": [
       "[205, 193, 209]"
      ]
     },
     "execution_count": 18,
     "metadata": {},
     "output_type": "execute_result"
    }
   ],
   "source": [
    "[len(tokenizer.decode(batch[\"input_ids\"][idx][i].tolist())) for i in range(3)]"
   ]
  },
  {
   "cell_type": "code",
   "execution_count": 22,
   "metadata": {},
   "outputs": [],
   "source": [
    "x = [tokenizer.decode(batch[\"input_ids\"][idx][i].tolist()) for i in range(3)]"
   ]
  },
  {
   "cell_type": "code",
   "execution_count": 25,
   "metadata": {},
   "outputs": [
    {
     "data": {
      "text/plain": [
       "['[CLS] banana is the day before friday. [SEP] bananas can be eaten anyday. [SEP] [PAD] [PAD] [PAD] [PAD] [PAD] [PAD] [PAD] [PAD] [PAD] [PAD] [PAD] [PAD] [PAD] [PAD] [PAD] [PAD] [PAD] [PAD] [PAD] [PAD] [PAD]',\n",
       " '[CLS] banana is the day before friday. [SEP] banana is a food, not a day. [SEP] [PAD] [PAD] [PAD] [PAD] [PAD] [PAD] [PAD] [PAD] [PAD] [PAD] [PAD] [PAD] [PAD] [PAD] [PAD] [PAD] [PAD] [PAD] [PAD]',\n",
       " '[CLS] banana is the day before friday. [SEP] bananas are not in the calendar. [SEP] [PAD] [PAD] [PAD] [PAD] [PAD] [PAD] [PAD] [PAD] [PAD] [PAD] [PAD] [PAD] [PAD] [PAD] [PAD] [PAD] [PAD] [PAD] [PAD] [PAD] [PAD]']"
      ]
     },
     "execution_count": 25,
     "metadata": {},
     "output_type": "execute_result"
    }
   ],
   "source": [
    "x"
   ]
  },
  {
   "cell_type": "code",
   "execution_count": 24,
   "metadata": {},
   "outputs": [
    {
     "name": "stdout",
     "output_type": "stream",
     "text": [
      "35\n",
      "35\n",
      "36\n"
     ]
    }
   ],
   "source": [
    "for i in x:\n",
    "    print(len(i.split()))"
   ]
  },
  {
   "cell_type": "code",
   "execution_count": null,
   "metadata": {},
   "outputs": [],
   "source": []
  }
 ],
 "metadata": {
  "kernelspec": {
   "display_name": "Python 3",
   "language": "python",
   "name": "python3"
  },
  "language_info": {
   "codemirror_mode": {
    "name": "ipython",
    "version": 3
   },
   "file_extension": ".py",
   "mimetype": "text/x-python",
   "name": "python",
   "nbconvert_exporter": "python",
   "pygments_lexer": "ipython3",
   "version": "3.10.6"
  },
  "orig_nbformat": 4,
  "vscode": {
   "interpreter": {
    "hash": "aee8b7b246df8f9039afb4144a1f6fd8d2ca17a180786b69acc140d282b71a49"
   }
  }
 },
 "nbformat": 4,
 "nbformat_minor": 2
}
