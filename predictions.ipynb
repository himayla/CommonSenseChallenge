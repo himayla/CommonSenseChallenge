{
 "cells": [
  {
   "cell_type": "code",
   "execution_count": null,
   "metadata": {},
   "outputs": [],
   "source": [
    "import pandas as pd\n",
    "\n",
    "test_file = \"common-sense/test_data.csv\"\n",
    "df_test = pd.read_csv(test_file)"
   ]
  },
  {
   "cell_type": "code",
   "execution_count": null,
   "metadata": {},
   "outputs": [],
   "source": [
    "from transformers import AutoTokenizer, AutoModelForMultipleChoice\n",
    "import torch\n",
    "\n",
    "PATH_TO_DIR = \"models/bert\"\n",
    "CHECKPOINT = \"checkpoint-1000\"\n",
    "MODEL_NAME = \"bert-base-uncased\"\n",
    "\n",
    "tokenizer = AutoTokenizer.from_pretrained(MODEL_NAME)\n",
    "model = AutoModelForMultipleChoice.from_pretrained(f\"{PATH_TO_DIR}/{MODEL_NAME}/{CHECKPOINT}/\")"
   ]
  },
  {
   "cell_type": "code",
   "execution_count": null,
   "metadata": {},
   "outputs": [],
   "source": [
    "options = [\"OptionA\", \"OptionB\", \"OptionC\"]\n",
    "answers = ['A', 'B', 'C']\n",
    "\n",
    "def predict(example):\n",
    "    prompts = []\n",
    "    for opt in options:\n",
    "        prompts.append([example['FalseSent'], example[opt]])\n",
    "\n",
    "    inputs = tokenizer(prompts, return_tensors=\"pt\", padding=True)\n",
    "    labels = torch.tensor(0).unsqueeze(0)\n",
    "    \n",
    "    outputs = model(**{k: v.unsqueeze(0) for k, v in inputs.items()}, labels=labels)\n",
    "    logits = outputs.logits\n",
    "    predicted_class = logits.argmax().item()\n",
    "\n",
    "    return answers[predicted_class]\n",
    "\n",
    "df_test['label'] = df_test.apply(lambda row: predict(row), axis=1)"
   ]
  },
  {
   "cell_type": "code",
   "execution_count": null,
   "metadata": {},
   "outputs": [],
   "source": [
    "submission_df = df_test[[\"id\", \"label\"]].copy()\n",
    "submission_df = submission_df.rename(columns={\"label\": \"answer\"})\n",
    "submission_df.set_index(\"id\", inplace=True)\n",
    "submission_df.to_csv(f\"submissions/Submission_10-12-2022_1.csv\")"
   ]
  }
 ],
 "metadata": {
  "kernelspec": {
   "display_name": "Python 3",
   "language": "python",
   "name": "python3"
  },
  "language_info": {
   "codemirror_mode": {
    "name": "ipython",
    "version": 3
   },
   "file_extension": ".py",
   "mimetype": "text/x-python",
   "name": "python",
   "nbconvert_exporter": "python",
   "pygments_lexer": "ipython3",
   "version": "3.10.6"
  },
  "orig_nbformat": 4,
  "vscode": {
   "interpreter": {
    "hash": "aee8b7b246df8f9039afb4144a1f6fd8d2ca17a180786b69acc140d282b71a49"
   }
  }
 },
 "nbformat": 4,
 "nbformat_minor": 2
}
