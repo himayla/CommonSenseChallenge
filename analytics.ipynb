{
 "cells": [
  {
   "cell_type": "code",
   "execution_count": 24,
   "id": "6ea821dc",
   "metadata": {},
   "outputs": [],
   "source": [
    "# Predictions for ensembling\n",
    "import pandas as pd\n",
    "from transformers import AutoTokenizer, AutoModelForMultipleChoice\n",
    "import numpy as np\n",
    "from sklearn.model_selection import train_test_split\n",
    "import torch\n",
    "\n",
    "CHECKPOINT = \"checkpoint-1000\"\n",
    "BERT = \"bert-base-uncased\"\n",
    "\n",
    "bert_tokenizer = AutoTokenizer.from_pretrained(BERT)\n",
    "bert_model = AutoModelForMultipleChoice.from_pretrained(f\"./results/{BERT}/{CHECKPOINT}/\")\n",
    "\n",
    "options = [\"OptionA\", \"OptionB\", \"OptionC\"]\n",
    "answers = ['A', 'B', 'C']\n"
   ]
  },
  {
   "cell_type": "code",
   "execution_count": 39,
   "id": "196943e4",
   "metadata": {},
   "outputs": [],
   "source": [
    "def ensemble(example):\n",
    "    prompts = []\n",
    "    for opt in options:\n",
    "        prompts.append([example['FalseSent'], example[opt]])\n",
    "        \n",
    "#     print(prompts)\n",
    "\n",
    "    bert_inputs = bert_tokenizer(prompts, return_tensors=\"pt\", padding=True)\n",
    "\n",
    "    labels = torch.tensor(0).unsqueeze(0)\n",
    "    \n",
    "    bert_outputs = bert_model(**{k: v.unsqueeze(0) for k, v in bert_inputs.items()}, labels=labels)\n",
    "\n",
    "    predicted_class = bert_outputs.logits.argmax().item()\n",
    "\n",
    "    return answers[predicted_class]\n"
   ]
  },
  {
   "cell_type": "code",
   "execution_count": 40,
   "id": "b458445e",
   "metadata": {},
   "outputs": [
    {
     "data": {
      "text/plain": [
       "id           object\n",
       "FalseSent    object\n",
       "OptionA      object\n",
       "OptionB      object\n",
       "OptionC      object\n",
       "dtype: object"
      ]
     },
     "execution_count": 40,
     "metadata": {},
     "output_type": "execute_result"
    }
   ],
   "source": [
    "\n",
    "train_file = \"common-sense/train_data.csv\"\n",
    "df_train = pd.read_csv(train_file)\n",
    "ans_file = \"common-sense/train_answers.csv\"\n",
    "df_ans = pd.read_csv(ans_file)\n",
    "test_file = \"common-sense/test_data.csv\"\n",
    "df_test = pd.read_csv(test_file)\n",
    "X_train, X_test, y_train, y_test = train_test_split(df_train, df_ans['answer'], test_size=0.3, random_state=40)\n",
    "X_train.dtypes\n",
    "\n",
    "    # submission_df = df_test[[\"id\", \"label\"]].copy()\n",
    "    # submission_df = submission_df.rename(columns={\"label\": \"answer\"})\n",
    "    # submission_df.set_index(\"id\", inplace=True)\n",
    "    # submission_df.to_csv(f\"submissions/Submission_12-12-2022_1.csv\")"
   ]
  },
  {
   "cell_type": "code",
   "execution_count": 41,
   "id": "6ccb37ec",
   "metadata": {},
   "outputs": [
    {
     "data": {
      "text/plain": [
       "id           object\n",
       "FalseSent    object\n",
       "OptionA      object\n",
       "OptionB      object\n",
       "OptionC      object\n",
       "dtype: object"
      ]
     },
     "execution_count": 41,
     "metadata": {},
     "output_type": "execute_result"
    }
   ],
   "source": [
    "df_test.dtypes"
   ]
  },
  {
   "cell_type": "code",
   "execution_count": 42,
   "id": "531765f4",
   "metadata": {},
   "outputs": [
    {
     "name": "stdout",
     "output_type": "stream",
     "text": [
      "5324    A\n",
      "7392    A\n",
      "6146    B\n",
      "2242    C\n",
      "4100    C\n",
      "       ..\n",
      "1912    B\n",
      "2738    B\n",
      "3606    C\n",
      "1148    A\n",
      "5197    B\n",
      "Length: 2400, dtype: object\n"
     ]
    }
   ],
   "source": [
    "df_dr = X_test.apply(lambda row: ensemble(row), axis=1)\n",
    "\n",
    "print(df_dr)"
   ]
  },
  {
   "cell_type": "code",
   "execution_count": 50,
   "id": "513c327e",
   "metadata": {},
   "outputs": [
    {
     "data": {
      "text/html": [
       "<div>\n",
       "<style scoped>\n",
       "    .dataframe tbody tr th:only-of-type {\n",
       "        vertical-align: middle;\n",
       "    }\n",
       "\n",
       "    .dataframe tbody tr th {\n",
       "        vertical-align: top;\n",
       "    }\n",
       "\n",
       "    .dataframe thead th {\n",
       "        text-align: right;\n",
       "    }\n",
       "</style>\n",
       "<table border=\"1\" class=\"dataframe\">\n",
       "  <thead>\n",
       "    <tr style=\"text-align: right;\">\n",
       "      <th></th>\n",
       "      <th>predicted</th>\n",
       "    </tr>\n",
       "  </thead>\n",
       "  <tbody>\n",
       "    <tr>\n",
       "      <th>5324</th>\n",
       "      <td>A</td>\n",
       "    </tr>\n",
       "    <tr>\n",
       "      <th>7392</th>\n",
       "      <td>A</td>\n",
       "    </tr>\n",
       "    <tr>\n",
       "      <th>6146</th>\n",
       "      <td>B</td>\n",
       "    </tr>\n",
       "    <tr>\n",
       "      <th>2242</th>\n",
       "      <td>C</td>\n",
       "    </tr>\n",
       "    <tr>\n",
       "      <th>4100</th>\n",
       "      <td>C</td>\n",
       "    </tr>\n",
       "    <tr>\n",
       "      <th>...</th>\n",
       "      <td>...</td>\n",
       "    </tr>\n",
       "    <tr>\n",
       "      <th>1912</th>\n",
       "      <td>B</td>\n",
       "    </tr>\n",
       "    <tr>\n",
       "      <th>2738</th>\n",
       "      <td>B</td>\n",
       "    </tr>\n",
       "    <tr>\n",
       "      <th>3606</th>\n",
       "      <td>C</td>\n",
       "    </tr>\n",
       "    <tr>\n",
       "      <th>1148</th>\n",
       "      <td>A</td>\n",
       "    </tr>\n",
       "    <tr>\n",
       "      <th>5197</th>\n",
       "      <td>B</td>\n",
       "    </tr>\n",
       "  </tbody>\n",
       "</table>\n",
       "<p>2400 rows × 1 columns</p>\n",
       "</div>"
      ],
      "text/plain": [
       "     predicted\n",
       "5324         A\n",
       "7392         A\n",
       "6146         B\n",
       "2242         C\n",
       "4100         C\n",
       "...        ...\n",
       "1912         B\n",
       "2738         B\n",
       "3606         C\n",
       "1148         A\n",
       "5197         B\n",
       "\n",
       "[2400 rows x 1 columns]"
      ]
     },
     "execution_count": 50,
     "metadata": {},
     "output_type": "execute_result"
    }
   ],
   "source": [
    "df_predictions = df_dr.to_frame()\n",
    "df_predictions.columns = ['predicted']"
   ]
  },
  {
   "cell_type": "code",
   "execution_count": 57,
   "id": "af442ef2",
   "metadata": {},
   "outputs": [
    {
     "data": {
      "text/html": [
       "<div>\n",
       "<style scoped>\n",
       "    .dataframe tbody tr th:only-of-type {\n",
       "        vertical-align: middle;\n",
       "    }\n",
       "\n",
       "    .dataframe tbody tr th {\n",
       "        vertical-align: top;\n",
       "    }\n",
       "\n",
       "    .dataframe thead th {\n",
       "        text-align: right;\n",
       "    }\n",
       "</style>\n",
       "<table border=\"1\" class=\"dataframe\">\n",
       "  <thead>\n",
       "    <tr style=\"text-align: right;\">\n",
       "      <th></th>\n",
       "      <th>predicted</th>\n",
       "      <th>actual</th>\n",
       "    </tr>\n",
       "  </thead>\n",
       "  <tbody>\n",
       "    <tr>\n",
       "      <th>5324</th>\n",
       "      <td>A</td>\n",
       "      <td>A</td>\n",
       "    </tr>\n",
       "    <tr>\n",
       "      <th>7392</th>\n",
       "      <td>A</td>\n",
       "      <td>A</td>\n",
       "    </tr>\n",
       "    <tr>\n",
       "      <th>6146</th>\n",
       "      <td>B</td>\n",
       "      <td>B</td>\n",
       "    </tr>\n",
       "    <tr>\n",
       "      <th>2242</th>\n",
       "      <td>C</td>\n",
       "      <td>C</td>\n",
       "    </tr>\n",
       "    <tr>\n",
       "      <th>4100</th>\n",
       "      <td>C</td>\n",
       "      <td>C</td>\n",
       "    </tr>\n",
       "    <tr>\n",
       "      <th>...</th>\n",
       "      <td>...</td>\n",
       "      <td>...</td>\n",
       "    </tr>\n",
       "    <tr>\n",
       "      <th>1912</th>\n",
       "      <td>B</td>\n",
       "      <td>B</td>\n",
       "    </tr>\n",
       "    <tr>\n",
       "      <th>2738</th>\n",
       "      <td>B</td>\n",
       "      <td>B</td>\n",
       "    </tr>\n",
       "    <tr>\n",
       "      <th>3606</th>\n",
       "      <td>C</td>\n",
       "      <td>C</td>\n",
       "    </tr>\n",
       "    <tr>\n",
       "      <th>1148</th>\n",
       "      <td>A</td>\n",
       "      <td>A</td>\n",
       "    </tr>\n",
       "    <tr>\n",
       "      <th>5197</th>\n",
       "      <td>B</td>\n",
       "      <td>B</td>\n",
       "    </tr>\n",
       "  </tbody>\n",
       "</table>\n",
       "<p>2400 rows × 2 columns</p>\n",
       "</div>"
      ],
      "text/plain": [
       "     predicted actual\n",
       "5324         A      A\n",
       "7392         A      A\n",
       "6146         B      B\n",
       "2242         C      C\n",
       "4100         C      C\n",
       "...        ...    ...\n",
       "1912         B      B\n",
       "2738         B      B\n",
       "3606         C      C\n",
       "1148         A      A\n",
       "5197         B      B\n",
       "\n",
       "[2400 rows x 2 columns]"
      ]
     },
     "execution_count": 57,
     "metadata": {},
     "output_type": "execute_result"
    }
   ],
   "source": [
    "df_predictions['actual'] = y_test\n",
    "# df_predictions.set_index(0, inplace=True)\n",
    "df_predictions"
   ]
  },
  {
   "cell_type": "code",
   "execution_count": 58,
   "id": "de876259",
   "metadata": {},
   "outputs": [],
   "source": [
    "df_predictions.to_csv(f\"submissions/30_percent_trainset.csv\")"
   ]
  },
  {
   "cell_type": "code",
   "execution_count": null,
   "id": "5b9df085",
   "metadata": {},
   "outputs": [],
   "source": []
  }
 ],
 "metadata": {
  "kernelspec": {
   "display_name": "Python 3 (ipykernel)",
   "language": "python",
   "name": "python3"
  },
  "language_info": {
   "codemirror_mode": {
    "name": "ipython",
    "version": 3
   },
   "file_extension": ".py",
   "mimetype": "text/x-python",
   "name": "python",
   "nbconvert_exporter": "python",
   "pygments_lexer": "ipython3",
   "version": "3.9.12"
  }
 },
 "nbformat": 4,
 "nbformat_minor": 5
}
